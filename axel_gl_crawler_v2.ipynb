{
  "nbformat": 4,
  "nbformat_minor": 0,
  "metadata": {
    "colab": {
      "provenance": [],
      "authorship_tag": "ABX9TyOfMMOOoY9SCmJ3ejeTbYUs",
      "include_colab_link": true
    },
    "kernelspec": {
      "name": "python3",
      "display_name": "Python 3"
    },
    "language_info": {
      "name": "python"
    }
  },
  "cells": [
    {
      "cell_type": "markdown",
      "metadata": {
        "id": "view-in-github",
        "colab_type": "text"
      },
      "source": [
        "<a href=\"https://colab.research.google.com/github/tablehan/mini-Programs/blob/main/axel_gl_crawler_v2.ipynb\" target=\"_parent\"><img src=\"https://colab.research.google.com/assets/colab-badge.svg\" alt=\"Open In Colab\"/></a>"
      ]
    },
    {
      "cell_type": "code",
      "execution_count": null,
      "metadata": {
        "colab": {
          "base_uri": "https://localhost:8080/"
        },
        "id": "xs31HtLgzQRl",
        "outputId": "337f4c13-34c2-4f71-b5ee-acdc3134a8d1"
      },
      "outputs": [
        {
          "output_type": "stream",
          "name": "stdout",
          "text": [
            "Looking in indexes: https://pypi.org/simple, https://us-python.pkg.dev/colab-wheels/public/simple/\n",
            "Collecting ipython-autotime\n",
            "  Downloading ipython_autotime-0.3.1-py2.py3-none-any.whl (6.8 kB)\n",
            "Requirement already satisfied: ipython in /usr/local/lib/python3.7/dist-packages (from ipython-autotime) (7.9.0)\n",
            "Requirement already satisfied: traitlets>=4.2 in /usr/local/lib/python3.7/dist-packages (from ipython->ipython-autotime) (5.1.1)\n",
            "Requirement already satisfied: pexpect in /usr/local/lib/python3.7/dist-packages (from ipython->ipython-autotime) (4.8.0)\n",
            "Requirement already satisfied: backcall in /usr/local/lib/python3.7/dist-packages (from ipython->ipython-autotime) (0.2.0)\n",
            "Requirement already satisfied: setuptools>=18.5 in /usr/local/lib/python3.7/dist-packages (from ipython->ipython-autotime) (57.4.0)\n",
            "Requirement already satisfied: pickleshare in /usr/local/lib/python3.7/dist-packages (from ipython->ipython-autotime) (0.7.5)\n",
            "Requirement already satisfied: prompt-toolkit<2.1.0,>=2.0.0 in /usr/local/lib/python3.7/dist-packages (from ipython->ipython-autotime) (2.0.10)\n",
            "Requirement already satisfied: pygments in /usr/local/lib/python3.7/dist-packages (from ipython->ipython-autotime) (2.6.1)\n",
            "Collecting jedi>=0.10\n",
            "  Downloading jedi-0.18.2-py2.py3-none-any.whl (1.6 MB)\n",
            "\u001b[K     |████████████████████████████████| 1.6 MB 8.5 MB/s \n",
            "\u001b[?25hRequirement already satisfied: decorator in /usr/local/lib/python3.7/dist-packages (from ipython->ipython-autotime) (4.4.2)\n",
            "Requirement already satisfied: parso<0.9.0,>=0.8.0 in /usr/local/lib/python3.7/dist-packages (from jedi>=0.10->ipython->ipython-autotime) (0.8.3)\n",
            "Requirement already satisfied: wcwidth in /usr/local/lib/python3.7/dist-packages (from prompt-toolkit<2.1.0,>=2.0.0->ipython->ipython-autotime) (0.2.5)\n",
            "Requirement already satisfied: six>=1.9.0 in /usr/local/lib/python3.7/dist-packages (from prompt-toolkit<2.1.0,>=2.0.0->ipython->ipython-autotime) (1.15.0)\n",
            "Requirement already satisfied: ptyprocess>=0.5 in /usr/local/lib/python3.7/dist-packages (from pexpect->ipython->ipython-autotime) (0.7.0)\n",
            "Installing collected packages: jedi, ipython-autotime\n",
            "Successfully installed ipython-autotime-0.3.1 jedi-0.18.2\n",
            "time: 795 µs (started: 2022-11-26 14:58:42 +00:00)\n"
          ]
        }
      ],
      "source": [
        "from bs4 import BeautifulSoup\n",
        "import requests\n",
        "import re\n",
        "import pandas as pd\n",
        "try:\n",
        "  %load_ext autotime\n",
        "except:\n",
        "  !pip install ipython-autotime\n",
        "  %load_ext autotime"
      ]
    },
    {
      "cell_type": "code",
      "source": [
        "web = \"https://www.axel-gl.com/en/\"\n",
        "headers = {\n",
        "    \"User-Agent\": \"Mozilla/5.0 (Windows NT 10.0; Win64; x64) AppleWebKit/537.36 (KHTML, like Gecko) Chrome/107.0.0.0 Safari/537.36\"\n",
        "}\n",
        "\n",
        "\n",
        "category = { \"all\" : \"keyword/\",\n",
        "        \"lab\" : \"s/SI000000/\",\n",
        "        \"factory\" : \"s/MR000000/\",\n",
        "        \"clean\" : \"s/I0000000/\",\n",
        "        \"medical\" : \"s/NV000000/\",\n",
        "        \"food\" : \"s/J0000000/\",\n",
        "        \"office\" : \"s/OF000000/\",\n",
        "        \"emergency\" : \"s/K0000000/\",\n",
        "        \"education\" : \"s/EDC000000/\",\n",
        "        \"specially\" : \"s/L0000000/\"\n",
        "}\n",
        "keyword_origin = \"apple\"\n",
        "if keyword_origin:\n",
        "  keyword=\"?q=\"+keyword_origin\n",
        "url = web+\"asone/\"+category[\"all\"]+keyword\n",
        "print(url)\n",
        "\n"
      ],
      "metadata": {
        "colab": {
          "base_uri": "https://localhost:8080/"
        },
        "id": "uFG2HlLTz31R",
        "outputId": "8353381e-c2a3-4a98-c06e-10d4ed3553be"
      },
      "execution_count": null,
      "outputs": [
        {
          "output_type": "stream",
          "name": "stdout",
          "text": [
            "https://www.axel-gl.com/en/asone/keyword/?q=apple\n",
            "time: 2.43 ms (started: 2022-11-26 15:45:45 +00:00)\n"
          ]
        }
      ]
    },
    {
      "cell_type": "code",
      "source": [
        "def getContent(soup):\n",
        "  df = pd.DataFrame(columns=[\"name\",\"JPY\",\"USD\",\"group_detail_href\"])\n",
        "  df[\"name\"]=([x.getText() for x in soup.findAll(\"a\", attrs = {\"class\":\"af-open-detail\",\"data-order\":anyNum}) if x.getText() not in (\"view group detail\", \"view product detail\")])\n",
        "  df[\"JPY\"]=([x.getText()[5:] for x in soup.findAll(\"p\", attrs = {\"class\":\"data-price\"}) if x.getText()[:3] == \"JPY\"])\n",
        "  df[\"USD\"]=([x.getText()[5:] for x in soup.findAll(\"p\", attrs = {\"class\":\"data-price\"}) if x.getText()[:3] == \"USD\"])\n",
        "  df[\"group_detail_href\"]=([\"https://www.axel-gl.com\"+x['href'] for x in soup.findAll(\"a\", attrs = {\"class\":\"af-open-detail\",\"data-order\":anyNum}) if x.getText() not in (\"view group detail\", \"view product detail\")])\n",
        "  return df\n",
        "\n",
        "file_name = keyword_origin + \"_result.csv\"\n",
        "\n",
        "anyNum = re.compile(\"[0-9]*\")\n",
        "curr_df = pd.DataFrame(columns=[\"name\",\"JPY\",\"USD\",\"group_detail_href\"])\n",
        "curr_df.to_csv(file_name,index = False)\n",
        "res = requests.get(url, headers = headers)\n",
        "soup = BeautifulSoup(res.text, 'html5lib')\n",
        "curr_df = getContent(soup)\n",
        "curr_df.to_csv(file_name,mode=\"a\",index = False)\n",
        "next_page = soup.find(\"link\",attrs={\"rel\":\"next\"})\n",
        "#print(curr_df)\n",
        "print(next_page)\n",
        "for i in range(2,40001,1):\n",
        "  if not next_page:\n",
        "    break\n",
        "  res = requests.get(url+\"&page=\"+str(i), headers = headers)\n",
        "  soup = BeautifulSoup(res.text, 'html5lib')\n",
        "  curr_df = getContent(soup)\n",
        "  curr_df.to_csv(file_name,mode=\"a\",index = False)\n",
        "  next_page = soup.find(\"link\",attrs={\"rel\":\"next\"})  \n",
        "  #print(df.head(1))\n",
        "  print(next_page)\n",
        "\n",
        "  \n",
        "\n"
      ],
      "metadata": {
        "colab": {
          "base_uri": "https://localhost:8080/"
        },
        "id": "lknhLbqt7B-w",
        "outputId": "aa265ba5-70f5-4ab1-cfc6-7db154b16fd4"
      },
      "execution_count": null,
      "outputs": [
        {
          "output_type": "stream",
          "name": "stdout",
          "text": [
            "<link href=\"https://www.axel-gl.com/en/asone/keyword/?q=apple&amp;page=2\" rel=\"next\"/>\n",
            "<link href=\"https://www.axel-gl.com/en/asone/keyword/?q=apple&amp;page=3\" rel=\"next\"/>\n",
            "<link href=\"https://www.axel-gl.com/en/asone/keyword/?q=apple&amp;page=4\" rel=\"next\"/>\n",
            "<link href=\"https://www.axel-gl.com/en/asone/keyword/?q=apple&amp;page=5\" rel=\"next\"/>\n",
            "<link href=\"https://www.axel-gl.com/en/asone/keyword/?q=apple&amp;page=6\" rel=\"next\"/>\n",
            "<link href=\"https://www.axel-gl.com/en/asone/keyword/?q=apple&amp;page=7\" rel=\"next\"/>\n",
            "<link href=\"https://www.axel-gl.com/en/asone/keyword/?q=apple&amp;page=8\" rel=\"next\"/>\n",
            "<link href=\"https://www.axel-gl.com/en/asone/keyword/?q=apple&amp;page=9\" rel=\"next\"/>\n",
            "<link href=\"https://www.axel-gl.com/en/asone/keyword/?q=apple&amp;page=10\" rel=\"next\"/>\n",
            "<link href=\"https://www.axel-gl.com/en/asone/keyword/?q=apple&amp;page=11\" rel=\"next\"/>\n",
            "<link href=\"https://www.axel-gl.com/en/asone/keyword/?q=apple&amp;page=12\" rel=\"next\"/>\n",
            "<link href=\"https://www.axel-gl.com/en/asone/keyword/?q=apple&amp;page=13\" rel=\"next\"/>\n",
            "<link href=\"https://www.axel-gl.com/en/asone/keyword/?q=apple&amp;page=14\" rel=\"next\"/>\n",
            "<link href=\"https://www.axel-gl.com/en/asone/keyword/?q=apple&amp;page=15\" rel=\"next\"/>\n",
            "<link href=\"https://www.axel-gl.com/en/asone/keyword/?q=apple&amp;page=16\" rel=\"next\"/>\n",
            "None\n",
            "time: 38.8 s (started: 2022-11-26 15:45:48 +00:00)\n"
          ]
        }
      ]
    },
    {
      "cell_type": "code",
      "source": [
        "import os\n",
        "print(os.getcwd())"
      ],
      "metadata": {
        "id": "mjUNUM_zboSV",
        "colab": {
          "base_uri": "https://localhost:8080/"
        },
        "outputId": "0190943b-95bd-404a-fd28-d33f1a51cd65"
      },
      "execution_count": null,
      "outputs": [
        {
          "output_type": "stream",
          "name": "stdout",
          "text": [
            "/content\n",
            "time: 2.64 ms (started: 2022-11-26 15:00:56 +00:00)\n"
          ]
        }
      ]
    }
  ]
}