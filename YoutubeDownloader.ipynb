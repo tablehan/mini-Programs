{
 "cells": [
  {
   "cell_type": "code",
   "execution_count": 1,
   "metadata": {},
   "outputs": [],
   "source": [
    "from pytube import YouTube\n",
    "import datetime\n",
    "import os"
   ]
  },
  {
   "cell_type": "code",
   "execution_count": 2,
   "metadata": {},
   "outputs": [
    {
     "name": "stdout",
     "output_type": "stream",
     "text": [
      "單檔下載開始2021-11-05 19:44:36.640154\n",
      "單檔下載完成2021-11-05 19:46:10.539349\n",
      "全部下載完成\n"
     ]
    }
   ],
   "source": [
    "##建立專用資料夾##\n",
    "path=\"C:\\\\Users\\OIR_UX430\\Desktop\\python_test\\myYouTube\"\n",
    "if not os.path.isdir(path):\n",
    "    os.mkdir(path)\n",
    "##影音連結串列##\n",
    "links=[\"https://www.youtube.com/watch?v=WCANxcOlO1w\"]\n",
    "\n",
    "\n",
    "for video in links: \n",
    "    yt=YouTube(video)\n",
    "    print ('單檔下載開始'+str(datetime.datetime.now()))\n",
    "    yt.streams.first().download(path)\n",
    "    print ('單檔下載完成'+str(datetime.datetime.now()))\n",
    "print ('全部下載完成')"
   ]
  },
  {
   "cell_type": "code",
   "execution_count": null,
   "metadata": {},
   "outputs": [],
   "source": []
  }
 ],
 "metadata": {
  "kernelspec": {
   "display_name": "Python 3",
   "language": "python",
   "name": "python3"
  },
  "language_info": {
   "codemirror_mode": {
    "name": "ipython",
    "version": 3
   },
   "file_extension": ".py",
   "mimetype": "text/x-python",
   "name": "python",
   "nbconvert_exporter": "python",
   "pygments_lexer": "ipython3",
   "version": "3.7.4"
  }
 },
 "nbformat": 4,
 "nbformat_minor": 2
}
