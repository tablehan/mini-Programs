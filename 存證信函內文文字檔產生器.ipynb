{
  "nbformat": 4,
  "nbformat_minor": 0,
  "metadata": {
    "colab": {
      "provenance": [],
      "authorship_tag": "ABX9TyOKFCGlGMKr/uhIUoB7IZjC",
      "include_colab_link": true
    },
    "kernelspec": {
      "name": "python3",
      "display_name": "Python 3"
    },
    "language_info": {
      "name": "python"
    }
  },
  "cells": [
    {
      "cell_type": "markdown",
      "metadata": {
        "id": "view-in-github",
        "colab_type": "text"
      },
      "source": [
        "<a href=\"https://colab.research.google.com/github/tablehan/mini-Programs/blob/main/%E5%AD%98%E8%AD%89%E4%BF%A1%E5%87%BD%E5%85%A7%E6%96%87%E6%96%87%E5%AD%97%E6%AA%94%E7%94%A2%E7%94%9F%E5%99%A8.ipynb\" target=\"_parent\"><img src=\"https://colab.research.google.com/assets/colab-badge.svg\" alt=\"Open In Colab\"/></a>"
      ]
    },
    {
      "cell_type": "code",
      "execution_count": null,
      "metadata": {
        "id": "cYamHF0nmpf6"
      },
      "outputs": [],
      "source": [
        "# 分段輸入版\n",
        "\n",
        "result = []\n",
        "while True:\n",
        "  content = list(input(\"請輸入一個段落的文字，每次換行視為一個段落，例如「敬啟者：」即視為一段，無輸入直接enter結束轉換進行整併。\"))\n",
        "  if not content:\n",
        "    result[-1] = result[-1].rstrip()\n",
        "    print(\"分段轉換結束，開始整併。\")\n",
        "    ans =\"MB\\n\"+''.join(result)\n",
        "    if ans:\n",
        "      with open(\"/content/存證信函內文.txt\",\"w\",encoding='UTF-8') as f:\n",
        "        f.write(ans)\n",
        "      print(\"整併完成，程式結束，輸出至content資料夾下，請點擊檔名右側三個點下載，沒有看到請重新整理雲端檔案夾。\")\n",
        "    else:\n",
        "      \n",
        "      print(\"無輸入內容，程式結束。\")    \n",
        "    break\n",
        "  for i in range(len(content)):\n",
        "    tmp = ord(content[i])\n",
        "    if 33 <= tmp <= 126:\n",
        "      content[i] = chr(tmp + 65248)\n",
        "    remaider = len(content)%20\n",
        "    res = ''.join(content)+chr(32)*(20 - remaider if remaider else 0)\n",
        "  print(\"轉換如下：\")\n",
        "  print(\"-\"*40)\n",
        "  print(res)\n",
        "  print(\"-\"*40)\n",
        "  result.append(res)\n"
      ]
    },
    {
      "cell_type": "code",
      "source": [
        "# 檔案傳輸版\n",
        "# 點左側檔案夾圖示開啟介面，然後將文檔命名為\"before.txt\"上傳到content資料夾裡(就是預設現在看到的資料夾)\n",
        "with open(\"/content/before.txt\", 'r', encoding='UTF-8') as b:\n",
        "  data = b.read()\n",
        "paragraphs = data.split(\"\\n\")\n",
        "for i in range(len(paragraphs)):\n",
        "  content = list(paragraphs[i])\n",
        "  for j in range(len(content)):\n",
        "    tmp = ord(content[i])\n",
        "    if 33 <= tmp <= 126:\n",
        "      content[j] = chr(tmp + 65248)\n",
        "  remaider = len(content)%20\n",
        "  paragraphs[i] = ''.join(content)+chr(32)*(20 - remaider if remaider else 0)\n",
        "  text = ''.join(paragraphs)\n",
        "with open(\"/content/存證信函內文.txt\",\"w\", encoding='UTF-8') as op:\n",
        "  op.write(\"MB\\n\"+text.rstrip())\n",
        "  print(\"轉換完成，程式結束，輸出至content資料夾下，請點擊檔名右側三個點下載，沒有看到請重新整理雲端檔案夾。\")\n",
        "\n",
        "\n"
      ],
      "metadata": {
        "id": "MeTZWYNU9Wbp"
      },
      "execution_count": null,
      "outputs": []
    }
  ]
}